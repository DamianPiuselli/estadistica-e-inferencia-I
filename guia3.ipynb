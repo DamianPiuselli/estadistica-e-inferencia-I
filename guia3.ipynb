{
 "cells": [
  {
   "cell_type": "code",
   "execution_count": 1,
   "metadata": {},
   "outputs": [],
   "source": [
    "import numpy as np\n",
    "import scipy.stats as st\n",
    "import pandas as pd\n",
    "import matplotlib.pyplot as plt\n",
    "import seaborn as sns"
   ]
  },
  {
   "cell_type": "markdown",
   "metadata": {},
   "source": [
    "## guia 3 - ej 6\n"
   ]
  },
  {
   "cell_type": "code",
   "execution_count": 2,
   "metadata": {},
   "outputs": [],
   "source": [
    "data = pd.read_csv(\n",
    "    \"https://raw.githubusercontent.com/franciscokordon/estainferencia/main/data/blocks.csv\"\n",
    ")"
   ]
  },
  {
   "cell_type": "code",
   "execution_count": 3,
   "metadata": {},
   "outputs": [
    {
     "data": {
      "text/html": [
       "<div>\n",
       "<style scoped>\n",
       "    .dataframe tbody tr th:only-of-type {\n",
       "        vertical-align: middle;\n",
       "    }\n",
       "\n",
       "    .dataframe tbody tr th {\n",
       "        vertical-align: top;\n",
       "    }\n",
       "\n",
       "    .dataframe thead th {\n",
       "        text-align: right;\n",
       "    }\n",
       "</style>\n",
       "<table border=\"1\" class=\"dataframe\">\n",
       "  <thead>\n",
       "    <tr style=\"text-align: right;\">\n",
       "      <th></th>\n",
       "      <th>Unnamed: 0</th>\n",
       "      <th>Child</th>\n",
       "      <th>Number</th>\n",
       "      <th>Time</th>\n",
       "      <th>Trial</th>\n",
       "      <th>Shape</th>\n",
       "      <th>Age</th>\n",
       "    </tr>\n",
       "  </thead>\n",
       "  <tbody>\n",
       "    <tr>\n",
       "      <th>0</th>\n",
       "      <td>0</td>\n",
       "      <td>A</td>\n",
       "      <td>11</td>\n",
       "      <td>30.0</td>\n",
       "      <td>1</td>\n",
       "      <td>Cube</td>\n",
       "      <td>4.67</td>\n",
       "    </tr>\n",
       "    <tr>\n",
       "      <th>1</th>\n",
       "      <td>1</td>\n",
       "      <td>B</td>\n",
       "      <td>9</td>\n",
       "      <td>19.0</td>\n",
       "      <td>1</td>\n",
       "      <td>Cube</td>\n",
       "      <td>5.00</td>\n",
       "    </tr>\n",
       "    <tr>\n",
       "      <th>2</th>\n",
       "      <td>2</td>\n",
       "      <td>C</td>\n",
       "      <td>8</td>\n",
       "      <td>18.6</td>\n",
       "      <td>1</td>\n",
       "      <td>Cube</td>\n",
       "      <td>4.42</td>\n",
       "    </tr>\n",
       "    <tr>\n",
       "      <th>3</th>\n",
       "      <td>3</td>\n",
       "      <td>D</td>\n",
       "      <td>9</td>\n",
       "      <td>23.0</td>\n",
       "      <td>1</td>\n",
       "      <td>Cube</td>\n",
       "      <td>4.33</td>\n",
       "    </tr>\n",
       "    <tr>\n",
       "      <th>4</th>\n",
       "      <td>4</td>\n",
       "      <td>E</td>\n",
       "      <td>10</td>\n",
       "      <td>29.0</td>\n",
       "      <td>1</td>\n",
       "      <td>Cube</td>\n",
       "      <td>4.33</td>\n",
       "    </tr>\n",
       "  </tbody>\n",
       "</table>\n",
       "</div>"
      ],
      "text/plain": [
       "   Unnamed: 0 Child  Number  Time  Trial Shape   Age\n",
       "0           0     A      11  30.0      1  Cube  4.67\n",
       "1           1     B       9  19.0      1  Cube  5.00\n",
       "2           2     C       8  18.6      1  Cube  4.42\n",
       "3           3     D       9  23.0      1  Cube  4.33\n",
       "4           4     E      10  29.0      1  Cube  4.33"
      ]
     },
     "execution_count": 3,
     "metadata": {},
     "output_type": "execute_result"
    }
   ],
   "source": [
    "data.head()"
   ]
  },
  {
   "cell_type": "code",
   "execution_count": 4,
   "metadata": {},
   "outputs": [
    {
     "name": "stdout",
     "output_type": "stream",
     "text": [
      "<class 'pandas.core.frame.DataFrame'>\n",
      "RangeIndex: 100 entries, 0 to 99\n",
      "Data columns (total 7 columns):\n",
      " #   Column      Non-Null Count  Dtype  \n",
      "---  ------      --------------  -----  \n",
      " 0   Unnamed: 0  100 non-null    int64  \n",
      " 1   Child       100 non-null    object \n",
      " 2   Number      100 non-null    int64  \n",
      " 3   Time        100 non-null    float64\n",
      " 4   Trial       100 non-null    int64  \n",
      " 5   Shape       100 non-null    object \n",
      " 6   Age         100 non-null    float64\n",
      "dtypes: float64(2), int64(3), object(2)\n",
      "memory usage: 5.6+ KB\n"
     ]
    }
   ],
   "source": [
    "data.info()"
   ]
  },
  {
   "cell_type": "code",
   "execution_count": 5,
   "metadata": {},
   "outputs": [
    {
     "data": {
      "text/plain": [
       "<seaborn.axisgrid.JointGrid at 0x1c09c727c10>"
      ]
     },
     "execution_count": 5,
     "metadata": {},
     "output_type": "execute_result"
    },
    {
     "data": {
      "image/png": "[encoded data removed]",
      "text/plain": [
       "<Figure size 432x432 with 3 Axes>"
      ]
     },
     "metadata": {
      "needs_background": "light"
     },
     "output_type": "display_data"
    }
   ],
   "source": [
    "sns.jointplot(x=\"Age\", y=\"Number\", data=data)"
   ]
  },
  {
   "cell_type": "markdown",
   "metadata": {},
   "source": [
    "Elijo una distribucion Poisson para Y. Con una funcion link eta = ln(mu) = g(mu)"
   ]
  },
  {
   "cell_type": "code",
   "execution_count": 6,
   "metadata": {},
   "outputs": [],
   "source": [
    "def poisson_log_likelihood(y, mu):  # a menos de una constante\n",
    "    return np.sum(y * np.log(mu) - mu)\n",
    "\n",
    "\n",
    "def mle_poisson(beta, X, y):  # ln(mu) = nu = B0  + sum(Bi*Xi)\n",
    "    mu = np.exp(np.dot(X, beta))\n",
    "    return -poisson_log_likelihood(y, mu)"
   ]
  },
  {
   "cell_type": "code",
   "execution_count": 7,
   "metadata": {},
   "outputs": [
    {
     "data": {
      "text/plain": [
       "  message: Optimization terminated successfully.\n",
       "  success: True\n",
       "   status: 0\n",
       "      fun: -630.9368538229929\n",
       "        x: [ 1.345e+00  1.415e-01]\n",
       "      nit: 9\n",
       "      jac: [ 7.629e-06  7.629e-06]\n",
       " hess_inv: [[ 5.268e-02 -1.253e-02]\n",
       "            [-1.253e-02  3.062e-03]]\n",
       "     nfev: 39\n",
       "     njev: 13"
      ]
     },
     "execution_count": 7,
     "metadata": {},
     "output_type": "execute_result"
    }
   ],
   "source": [
    "from scipy.optimize import minimize\n",
    "\n",
    "Y = data[\"Number\"]\n",
    "X = np.column_stack((np.ones(len(data)), data[\"Age\"]))\n",
    "\n",
    "beta_init = np.zeros(2)\n",
    "\n",
    "res = minimize(mle_poisson, beta_init, args=(X, Y), method=\"BFGS\")\n",
    "\n",
    "res"
   ]
  },
  {
   "cell_type": "code",
   "execution_count": 8,
   "metadata": {},
   "outputs": [],
   "source": [
    "age_linspace = np.linspace(data[\"Age\"].min(), data[\"Age\"].max(), 10)\n",
    "X_ = np.column_stack((np.ones(len(age_linspace)), age_linspace))\n",
    "lower_bound, upper_bound = st.poisson.interval(0.95, np.exp(np.dot(X_, res.x)))"
   ]
  },
  {
   "cell_type": "code",
   "execution_count": 9,
   "metadata": {},
   "outputs": [
    {
     "data": {
      "image/png": "[encoded data removed]",
      "text/plain": [
       "<Figure size 432x432 with 3 Axes>"
      ]
     },
     "metadata": {
      "needs_background": "light"
     },
     "output_type": "display_data"
    }
   ],
   "source": [
    "sns.jointplot(x=\"Age\", y=\"Number\", data=data)\n",
    "plt.plot(age_linspace, np.exp(np.dot(X_, res.x)), color=\"red\")\n",
    "plt.fill_between(age_linspace, lower_bound, upper_bound, color=\"red\", alpha=0.1)\n",
    "plt.show()"
   ]
  },
  {
   "cell_type": "code",
   "execution_count": 10,
   "metadata": {},
   "outputs": [
    {
     "data": {
      "text/plain": [
       "array([[ 0.04944115, -0.01169638],\n",
       "       [-0.01169638,  0.0028516 ]])"
      ]
     },
     "execution_count": 10,
     "metadata": {},
     "output_type": "execute_result"
    }
   ],
   "source": [
    "W = np.diag(\n",
    "    np.exp(np.dot(X, res.x))\n",
    ")  # matriz de pesos, como use la variable canonica  (1/ dEta/dmu)\n",
    "fischer_information = np.dot(\n",
    "    X.T, np.dot(W, X)\n",
    ")  # informacion de fisher (dispersion = 1 para poisson)\n",
    "covariance_matrix = np.linalg.inv(fischer_information)  # matriz de covarianza\n",
    "covariance_matrix"
   ]
  },
  {
   "cell_type": "code",
   "execution_count": 11,
   "metadata": {},
   "outputs": [
    {
     "data": {
      "text/plain": [
       "array([0.22235366, 0.0534004 ])"
      ]
     },
     "execution_count": 11,
     "metadata": {},
     "output_type": "execute_result"
    }
   ],
   "source": [
    "standard_errors = np.sqrt(np.diag(covariance_matrix))\n",
    "standard_errors"
   ]
  },
  {
   "cell_type": "code",
   "execution_count": 12,
   "metadata": {},
   "outputs": [
    {
     "data": {
      "text/plain": [
       "62.243835062448206"
      ]
     },
     "execution_count": 12,
     "metadata": {},
     "output_type": "execute_result"
    }
   ],
   "source": [
    "def poisson_unitary_deviance(y, mu):\n",
    "    # representa diferencias entre el modelo y un modelo ideal saturado donde cada medicion es fitteada perfectamente (mu = y)\n",
    "    return 2 * (y * np.log(y / mu) + (mu - y))\n",
    "\n",
    "\n",
    "total_deviance = np.sum(poisson_unitary_deviance(Y, np.exp(np.dot(X, res.x))))\n",
    "total_deviance"
   ]
  },
  {
   "cell_type": "markdown",
   "metadata": {},
   "source": [
    "## guia 3 - ej 7\n"
   ]
  },
  {
   "cell_type": "code",
   "execution_count": 13,
   "metadata": {},
   "outputs": [],
   "source": [
    "data2 = pd.read_csv(\n",
    "    \"https://raw.githubusercontent.com/franciscokordon/estainferencia/main/data/nambeware.csv\"\n",
    ")"
   ]
  },
  {
   "cell_type": "code",
   "execution_count": 14,
   "metadata": {},
   "outputs": [
    {
     "name": "stdout",
     "output_type": "stream",
     "text": [
      "<class 'pandas.core.frame.DataFrame'>\n",
      "RangeIndex: 59 entries, 0 to 58\n",
      "Data columns (total 5 columns):\n",
      " #   Column      Non-Null Count  Dtype  \n",
      "---  ------      --------------  -----  \n",
      " 0   Unnamed: 0  59 non-null     int64  \n",
      " 1   Type        59 non-null     object \n",
      " 2   Diam        59 non-null     float64\n",
      " 3   Time        59 non-null     float64\n",
      " 4   Price       59 non-null     float64\n",
      "dtypes: float64(3), int64(1), object(1)\n",
      "memory usage: 2.4+ KB\n"
     ]
    }
   ],
   "source": [
    "data2.info()"
   ]
  },
  {
   "cell_type": "code",
   "execution_count": 15,
   "metadata": {},
   "outputs": [
    {
     "data": {
      "text/plain": [
       "<seaborn.axisgrid.JointGrid at 0x1c09e9b0ca0>"
      ]
     },
     "execution_count": 15,
     "metadata": {},
     "output_type": "execute_result"
    },
    {
     "data": {
      "image/png": "[encoded data removed]",
      "text/plain": [
       "<Figure size 432x432 with 3 Axes>"
      ]
     },
     "metadata": {
      "needs_background": "light"
     },
     "output_type": "display_data"
    }
   ],
   "source": [
    "sns.jointplot(x=\"Diam\", y=\"Price\", data=data2)"
   ]
  },
  {
   "cell_type": "markdown",
   "metadata": {},
   "source": [
    "obs: Aumento lineal del precio con el diametro. Tambien se observa aumento de la varianza con el aumento de la media de la variable dependiente. Propongo una distrib gamma debido a esto."
   ]
  },
  {
   "cell_type": "code",
   "execution_count": 74,
   "metadata": {},
   "outputs": [],
   "source": [
    "from scipy.special import gamma\n",
    "\n",
    "\n",
    "def gamma_log_likelihood(y, mu, dispersion=1):\n",
    "    A = (y / (dispersion * mu)) ** (1 / dispersion)\n",
    "    B = (1 / y) * (1 / gamma(1 / dispersion))\n",
    "    C = np.exp(-y / (dispersion * mu))\n",
    "    return np.sum(np.log(A * B * C))\n",
    "\n",
    "\n",
    "def mle_gamma(beta, X, y):  # uso de funcion link ln(mu) = eta\n",
    "    mu = np.exp(np.dot(X, beta))\n",
    "    return -gamma_log_likelihood(y, mu)"
   ]
  },
  {
   "cell_type": "code",
   "execution_count": 75,
   "metadata": {},
   "outputs": [
    {
     "data": {
      "text/plain": [
       "  message: Optimization terminated successfully.\n",
       "  success: True\n",
       "   status: 0\n",
       "      fun: 315.8304558995416\n",
       "        x: [ 2.963e+00  1.272e-01]\n",
       "      nit: 5\n",
       "      jac: [ 0.000e+00 -3.815e-06]\n",
       " hess_inv: [[ 1.939e-01 -1.617e-02]\n",
       "            [-1.617e-02  1.478e-03]]\n",
       "     nfev: 27\n",
       "     njev: 9"
      ]
     },
     "execution_count": 75,
     "metadata": {},
     "output_type": "execute_result"
    }
   ],
   "source": [
    "params_init = [2.9, 0.12]\n",
    "\n",
    "\n",
    "Y2 = data2[\"Price\"]\n",
    "X2 = np.column_stack((np.ones(len(data2)), data2[\"Diam\"]))\n",
    "\n",
    "\n",
    "def to_minimize(beta):\n",
    "    return mle_gamma(beta, X=X2, y=Y2)\n",
    "\n",
    "\n",
    "result = minimize(to_minimize, x0=params_init, method=\"BFGS\")\n",
    "result"
   ]
  },
  {
   "cell_type": "code",
   "execution_count": 76,
   "metadata": {},
   "outputs": [],
   "source": [
    "diam_linspace = np.linspace(data2[\"Diam\"].min(), data2[\"Diam\"].max(), 10)\n",
    "X2_ = np.column_stack((np.ones(len(diam_linspace)), diam_linspace))"
   ]
  },
  {
   "cell_type": "code",
   "execution_count": null,
   "metadata": {},
   "outputs": [
    {
     "data": {
      "text/plain": [
       "[<matplotlib.lines.Line2D at 0x1c0a27b7f40>]"
      ]
     },
     "execution_count": 70,
     "metadata": {},
     "output_type": "execute_result"
    },
    {
     "data": {
      "image/png": "[encoded data removed]",
      "text/plain": [
       "<Figure size 432x432 with 3 Axes>"
      ]
     },
     "metadata": {
      "needs_background": "light"
     },
     "output_type": "display_data"
    }
   ],
   "source": [
    "sns.jointplot(x=\"Diam\", y=\"Price\", data=data2)\n",
    "plt.plot(diam_linspace, np.exp(np.dot(X2_, result.x[0:-1])), color=\"red\")"
   ]
  },
  {
   "cell_type": "code",
   "execution_count": 85,
   "metadata": {},
   "outputs": [
    {
     "data": {
      "text/plain": [
       "array([0.03976187, 0.0028014 ])"
      ]
     },
     "execution_count": 85,
     "metadata": {},
     "output_type": "execute_result"
    }
   ],
   "source": [
    "W = np.diag(np.exp(np.dot(X2, result.x)))\n",
    "\n",
    "fischer_information = np.dot(X2.T, np.dot(W, X2))\n",
    "covariance_matrix = np.linalg.inv(fischer_information)\n",
    "standard_errors = np.sqrt(np.diag(covariance_matrix))\n",
    "standard_errors"
   ]
  },
  {
   "cell_type": "code",
   "execution_count": 87,
   "metadata": {},
   "outputs": [
    {
     "data": {
      "text/html": [
       "<table class=\"simpletable\">\n",
       "<caption>Generalized Linear Model Regression Results</caption>\n",
       "<tr>\n",
       "  <th>Dep. Variable:</th>         <td>Price</td>      <th>  No. Observations:  </th>  <td>    59</td> \n",
       "</tr>\n",
       "<tr>\n",
       "  <th>Model:</th>                  <td>GLM</td>       <th>  Df Residuals:      </th>  <td>    57</td> \n",
       "</tr>\n",
       "<tr>\n",
       "  <th>Model Family:</th>          <td>Gamma</td>      <th>  Df Model:          </th>  <td>     1</td> \n",
       "</tr>\n",
       "<tr>\n",
       "  <th>Link Function:</th>          <td>Log</td>       <th>  Scale:             </th> <td> 0.15673</td>\n",
       "</tr>\n",
       "<tr>\n",
       "  <th>Method:</th>                <td>IRLS</td>       <th>  Log-Likelihood:    </th> <td> -278.11</td>\n",
       "</tr>\n",
       "<tr>\n",
       "  <th>Date:</th>            <td>Wed, 24 Apr 2024</td> <th>  Deviance:          </th> <td>  7.7937</td>\n",
       "</tr>\n",
       "<tr>\n",
       "  <th>Time:</th>                <td>16:43:23</td>     <th>  Pearson chi2:      </th>  <td>  8.93</td> \n",
       "</tr>\n",
       "<tr>\n",
       "  <th>No. Iterations:</th>         <td>14</td>        <th>  Pseudo R-squ. (CS):</th>  <td>0.7405</td> \n",
       "</tr>\n",
       "<tr>\n",
       "  <th>Covariance Type:</th>     <td>nonrobust</td>    <th>                     </th>     <td> </td>   \n",
       "</tr>\n",
       "</table>\n",
       "<table class=\"simpletable\">\n",
       "<tr>\n",
       "    <td></td>       <th>coef</th>     <th>std err</th>      <th>z</th>      <th>P>|z|</th>  <th>[0.025</th>    <th>0.975]</th>  \n",
       "</tr>\n",
       "<tr>\n",
       "  <th>const</th> <td>    2.9629</td> <td>    0.156</td> <td>   18.971</td> <td> 0.000</td> <td>    2.657</td> <td>    3.269</td>\n",
       "</tr>\n",
       "<tr>\n",
       "  <th>x1</th>    <td>    0.1272</td> <td>    0.013</td> <td>    9.429</td> <td> 0.000</td> <td>    0.101</td> <td>    0.154</td>\n",
       "</tr>\n",
       "</table>"
      ],
      "text/plain": [
       "<class 'statsmodels.iolib.summary.Summary'>\n",
       "\"\"\"\n",
       "                 Generalized Linear Model Regression Results                  \n",
       "==============================================================================\n",
       "Dep. Variable:                  Price   No. Observations:                   59\n",
       "Model:                            GLM   Df Residuals:                       57\n",
       "Model Family:                   Gamma   Df Model:                            1\n",
       "Link Function:                    Log   Scale:                         0.15673\n",
       "Method:                          IRLS   Log-Likelihood:                -278.11\n",
       "Date:                Wed, 24 Apr 2024   Deviance:                       7.7937\n",
       "Time:                        16:43:23   Pearson chi2:                     8.93\n",
       "No. Iterations:                    14   Pseudo R-squ. (CS):             0.7405\n",
       "Covariance Type:            nonrobust                                         \n",
       "==============================================================================\n",
       "                 coef    std err          z      P>|z|      [0.025      0.975]\n",
       "------------------------------------------------------------------------------\n",
       "const          2.9629      0.156     18.971      0.000       2.657       3.269\n",
       "x1             0.1272      0.013      9.429      0.000       0.101       0.154\n",
       "==============================================================================\n",
       "\"\"\""
      ]
     },
     "execution_count": 87,
     "metadata": {},
     "output_type": "execute_result"
    }
   ],
   "source": [
    "import statsmodels.api as sm\n",
    "\n",
    "model = sm.GLM(Y2, X2, family=sm.families.Gamma(sm.families.links.Log())).fit()\n",
    "model.summary()"
   ]
  },
  {
   "cell_type": "code",
   "execution_count": 78,
   "metadata": {},
   "outputs": [
    {
     "data": {
      "text/html": [
       "<div>\n",
       "<style scoped>\n",
       "    .dataframe tbody tr th:only-of-type {\n",
       "        vertical-align: middle;\n",
       "    }\n",
       "\n",
       "    .dataframe tbody tr th {\n",
       "        vertical-align: top;\n",
       "    }\n",
       "\n",
       "    .dataframe thead th {\n",
       "        text-align: right;\n",
       "    }\n",
       "</style>\n",
       "<table border=\"1\" class=\"dataframe\">\n",
       "  <thead>\n",
       "    <tr style=\"text-align: right;\">\n",
       "      <th></th>\n",
       "      <th>const</th>\n",
       "      <th>x1</th>\n",
       "    </tr>\n",
       "  </thead>\n",
       "  <tbody>\n",
       "    <tr>\n",
       "      <th>const</th>\n",
       "      <td>0.024392</td>\n",
       "      <td>-0.001989</td>\n",
       "    </tr>\n",
       "    <tr>\n",
       "      <th>x1</th>\n",
       "      <td>-0.001989</td>\n",
       "      <td>0.000182</td>\n",
       "    </tr>\n",
       "  </tbody>\n",
       "</table>\n",
       "</div>"
      ],
      "text/plain": [
       "          const        x1\n",
       "const  0.024392 -0.001989\n",
       "x1    -0.001989  0.000182"
      ]
     },
     "execution_count": 78,
     "metadata": {},
     "output_type": "execute_result"
    }
   ],
   "source": [
    "model.cov_params()"
   ]
  }
 ],
 "metadata": {
  "kernelspec": {
   "display_name": "Python 3",
   "language": "python",
   "name": "python3"
  },
  "language_info": {
   "codemirror_mode": {
    "name": "ipython",
    "version": 3
   },
   "file_extension": ".py",
   "mimetype": "text/x-python",
   "name": "python",
   "nbconvert_exporter": "python",
   "pygments_lexer": "ipython3",
   "version": "3.9.5"
  }
 },
 "nbformat": 4,
 "nbformat_minor": 2
}
