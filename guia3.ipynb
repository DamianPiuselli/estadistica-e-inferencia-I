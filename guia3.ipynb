{
 "cells": [
  {
   "cell_type": "code",
   "execution_count": 61,
   "metadata": {},
   "outputs": [],
   "source": [
    "import numpy as np\n",
    "import scipy.stats as st\n",
    "import pandas as pd\n",
    "import matplotlib.pyplot as plt\n",
    "import seaborn as sns\n",
    "\n",
    "plt.rcParams[\"figure.figsize\"] = [5, 3]"
   ]
  },
  {
   "cell_type": "markdown",
   "metadata": {},
   "source": [
    "## guia 3 - ej 6\n"
   ]
  },
  {
   "cell_type": "code",
   "execution_count": 62,
   "metadata": {},
   "outputs": [],
   "source": [
    "data = pd.read_csv(\n",
    "    \"https://raw.githubusercontent.com/franciscokordon/estainferencia/main/data/blocks.csv\"\n",
    ")"
   ]
  },
  {
   "cell_type": "code",
   "execution_count": 63,
   "metadata": {},
   "outputs": [
    {
     "data": {
      "text/html": [
       "<div>\n",
       "<style scoped>\n",
       "    .dataframe tbody tr th:only-of-type {\n",
       "        vertical-align: middle;\n",
       "    }\n",
       "\n",
       "    .dataframe tbody tr th {\n",
       "        vertical-align: top;\n",
       "    }\n",
       "\n",
       "    .dataframe thead th {\n",
       "        text-align: right;\n",
       "    }\n",
       "</style>\n",
       "<table border=\"1\" class=\"dataframe\">\n",
       "  <thead>\n",
       "    <tr style=\"text-align: right;\">\n",
       "      <th></th>\n",
       "      <th>Unnamed: 0</th>\n",
       "      <th>Child</th>\n",
       "      <th>Number</th>\n",
       "      <th>Time</th>\n",
       "      <th>Trial</th>\n",
       "      <th>Shape</th>\n",
       "      <th>Age</th>\n",
       "    </tr>\n",
       "  </thead>\n",
       "  <tbody>\n",
       "    <tr>\n",
       "      <th>0</th>\n",
       "      <td>0</td>\n",
       "      <td>A</td>\n",
       "      <td>11</td>\n",
       "      <td>30.0</td>\n",
       "      <td>1</td>\n",
       "      <td>Cube</td>\n",
       "      <td>4.67</td>\n",
       "    </tr>\n",
       "    <tr>\n",
       "      <th>1</th>\n",
       "      <td>1</td>\n",
       "      <td>B</td>\n",
       "      <td>9</td>\n",
       "      <td>19.0</td>\n",
       "      <td>1</td>\n",
       "      <td>Cube</td>\n",
       "      <td>5.00</td>\n",
       "    </tr>\n",
       "    <tr>\n",
       "      <th>2</th>\n",
       "      <td>2</td>\n",
       "      <td>C</td>\n",
       "      <td>8</td>\n",
       "      <td>18.6</td>\n",
       "      <td>1</td>\n",
       "      <td>Cube</td>\n",
       "      <td>4.42</td>\n",
       "    </tr>\n",
       "    <tr>\n",
       "      <th>3</th>\n",
       "      <td>3</td>\n",
       "      <td>D</td>\n",
       "      <td>9</td>\n",
       "      <td>23.0</td>\n",
       "      <td>1</td>\n",
       "      <td>Cube</td>\n",
       "      <td>4.33</td>\n",
       "    </tr>\n",
       "    <tr>\n",
       "      <th>4</th>\n",
       "      <td>4</td>\n",
       "      <td>E</td>\n",
       "      <td>10</td>\n",
       "      <td>29.0</td>\n",
       "      <td>1</td>\n",
       "      <td>Cube</td>\n",
       "      <td>4.33</td>\n",
       "    </tr>\n",
       "  </tbody>\n",
       "</table>\n",
       "</div>"
      ],
      "text/plain": [
       "   Unnamed: 0 Child  Number  Time  Trial Shape   Age\n",
       "0           0     A      11  30.0      1  Cube  4.67\n",
       "1           1     B       9  19.0      1  Cube  5.00\n",
       "2           2     C       8  18.6      1  Cube  4.42\n",
       "3           3     D       9  23.0      1  Cube  4.33\n",
       "4           4     E      10  29.0      1  Cube  4.33"
      ]
     },
     "execution_count": 63,
     "metadata": {},
     "output_type": "execute_result"
    }
   ],
   "source": [
    "data.head()"
   ]
  },
  {
   "cell_type": "code",
   "execution_count": 64,
   "metadata": {},
   "outputs": [
    {
     "name": "stdout",
     "output_type": "stream",
     "text": [
      "<class 'pandas.core.frame.DataFrame'>\n",
      "RangeIndex: 100 entries, 0 to 99\n",
      "Data columns (total 7 columns):\n",
      " #   Column      Non-Null Count  Dtype  \n",
      "---  ------      --------------  -----  \n",
      " 0   Unnamed: 0  100 non-null    int64  \n",
      " 1   Child       100 non-null    object \n",
      " 2   Number      100 non-null    int64  \n",
      " 3   Time        100 non-null    float64\n",
      " 4   Trial       100 non-null    int64  \n",
      " 5   Shape       100 non-null    object \n",
      " 6   Age         100 non-null    float64\n",
      "dtypes: float64(2), int64(3), object(2)\n",
      "memory usage: 5.6+ KB\n"
     ]
    }
   ],
   "source": [
    "data.info()"
   ]
  },
  {
   "cell_type": "code",
   "execution_count": 65,
   "metadata": {},
   "outputs": [
    {
     "data": {
      "text/plain": [
<<<<<<< HEAD
       "<seaborn.axisgrid.JointGrid at 0x216ad28c2b0>"
=======
       "<seaborn.axisgrid.JointGrid at 0x2405cf2a990>"
>>>>>>> 05dffb387a44bdc730062925929115a5feb8fdab
      ]
     },
     "execution_count": 65,
     "metadata": {},
     "output_type": "execute_result"
    },
    {
     "data": {
      "image/png": "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",
      "text/plain": [
       "<Figure size 600x600 with 3 Axes>"
      ]
     },
     "metadata": {},
     "output_type": "display_data"
    }
   ],
   "source": [
    "sns.jointplot(x=\"Age\", y=\"Number\", data=data)"
   ]
  },
  {
   "cell_type": "markdown",
   "metadata": {},
   "source": [
    "Elijo una distribucion Poisson para Y. Con una funcion link eta = ln(mu) = g(mu)"
   ]
  },
  {
   "cell_type": "code",
   "execution_count": 66,
   "metadata": {},
   "outputs": [],
   "source": [
    "def poisson_log_likelihood(y, mu):  # a menos de una constante\n",
    "    return np.sum(y * np.log(mu) - mu)\n",
    "\n",
    "\n",
    "def mle_poisson(beta, X, y):  # ln(mu) = nu = B0  + sum(Bi*Xi)\n",
    "    mu = np.exp(np.dot(X, beta))\n",
    "    return -poisson_log_likelihood(y, mu)"
   ]
  },
  {
   "cell_type": "code",
   "execution_count": 67,
   "metadata": {},
   "outputs": [
    {
     "data": {
      "text/plain": [
       "  message: Optimization terminated successfully.\n",
       "  success: True\n",
       "   status: 0\n",
       "      fun: -630.9368538229929\n",
       "        x: [ 1.345e+00  1.415e-01]\n",
       "      nit: 9\n",
       "      jac: [ 7.629e-06  7.629e-06]\n",
       " hess_inv: [[ 5.268e-02 -1.253e-02]\n",
       "            [-1.253e-02  3.062e-03]]\n",
       "     nfev: 39\n",
       "     njev: 13"
      ]
     },
     "execution_count": 67,
     "metadata": {},
     "output_type": "execute_result"
    }
   ],
   "source": [
    "from scipy.optimize import minimize\n",
    "\n",
    "Y = data[\"Number\"]\n",
    "X = np.column_stack((np.ones(len(data)), data[\"Age\"]))\n",
    "\n",
    "beta_init = np.zeros(2)\n",
    "\n",
    "res = minimize(mle_poisson, beta_init, args=(X, Y), method=\"BFGS\")\n",
    "\n",
    "res"
   ]
  },
  {
   "cell_type": "code",
   "execution_count": 68,
   "metadata": {},
   "outputs": [],
   "source": [
    "age_linspace = np.linspace(data[\"Age\"].min(), data[\"Age\"].max(), 10)\n",
    "X_ = np.column_stack((np.ones(len(age_linspace)), age_linspace))\n",
    "lower_bound, upper_bound = st.poisson.interval(0.95, np.exp(np.dot(X_, res.x)))"
   ]
  },
  {
   "cell_type": "code",
   "execution_count": 69,
   "metadata": {},
   "outputs": [
    {
     "data": {
      "image/png": "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",
      "text/plain": [
       "<Figure size 600x600 with 3 Axes>"
      ]
     },
     "metadata": {},
     "output_type": "display_data"
    }
   ],
   "source": [
    "sns.jointplot(x=\"Age\", y=\"Number\", data=data, alpha=0.5)\n",
    "plt.plot(age_linspace, np.exp(np.dot(X_, res.x)), color=\"red\")\n",
    "plt.fill_between(age_linspace, lower_bound, upper_bound, color=\"red\", alpha=0.1)\n",
    "plt.show()"
   ]
  },
  {
   "cell_type": "code",
   "execution_count": 70,
   "metadata": {},
   "outputs": [
    {
     "data": {
      "text/plain": [
       "array([[ 0.04944115, -0.01169638],\n",
       "       [-0.01169638,  0.0028516 ]])"
      ]
     },
     "execution_count": 70,
     "metadata": {},
     "output_type": "execute_result"
    }
   ],
   "source": [
    "W = np.diag(\n",
    "    np.exp(np.dot(X, res.x))\n",
    ")  # matriz de pesos, como use la variable canonica  (1/ dEta/dmu)\n",
    "fischer_information = np.dot(\n",
    "    X.T, np.dot(W, X)\n",
    ")  # informacion de fisher (dispersion = 1 para poisson)\n",
    "covariance_matrix = np.linalg.inv(fischer_information)  # matriz de covarianza\n",
    "covariance_matrix"
   ]
  },
  {
   "cell_type": "code",
   "execution_count": 71,
   "metadata": {},
   "outputs": [
    {
     "data": {
      "text/plain": [
       "array([0.22235366, 0.0534004 ])"
      ]
     },
     "execution_count": 71,
     "metadata": {},
     "output_type": "execute_result"
    }
   ],
   "source": [
    "standard_errors = np.sqrt(np.diag(covariance_matrix))\n",
    "standard_errors"
   ]
  },
  {
   "cell_type": "code",
   "execution_count": 72,
   "metadata": {},
   "outputs": [
    {
     "data": {
      "text/plain": [
       "62.243835062448206"
      ]
     },
     "execution_count": 72,
     "metadata": {},
     "output_type": "execute_result"
    }
   ],
   "source": [
    "def poisson_unitary_deviance(y, mu):\n",
    "    # representa diferencias entre el modelo y un modelo ideal saturado donde cada medicion es fitteada perfectamente (mu = y)\n",
    "    return 2 * (y * np.log(y / mu) + (mu - y))\n",
    "\n",
    "\n",
    "total_deviance = np.sum(poisson_unitary_deviance(Y, np.exp(np.dot(X, res.x))))\n",
    "total_deviance"
   ]
  },
  {
   "cell_type": "markdown",
   "metadata": {},
   "source": [
    "## guia 3 - ej 7\n"
   ]
  },
  {
   "cell_type": "code",
   "execution_count": 73,
   "metadata": {},
   "outputs": [],
   "source": [
    "data2 = pd.read_csv(\n",
    "    \"https://raw.githubusercontent.com/franciscokordon/estainferencia/main/data/nambeware.csv\"\n",
    ")"
   ]
  },
  {
   "cell_type": "code",
   "execution_count": 74,
   "metadata": {},
   "outputs": [
    {
     "name": "stdout",
     "output_type": "stream",
     "text": [
      "<class 'pandas.core.frame.DataFrame'>\n",
      "RangeIndex: 59 entries, 0 to 58\n",
      "Data columns (total 5 columns):\n",
      " #   Column      Non-Null Count  Dtype  \n",
      "---  ------      --------------  -----  \n",
      " 0   Unnamed: 0  59 non-null     int64  \n",
      " 1   Type        59 non-null     object \n",
      " 2   Diam        59 non-null     float64\n",
      " 3   Time        59 non-null     float64\n",
      " 4   Price       59 non-null     float64\n",
      "dtypes: float64(3), int64(1), object(1)\n",
      "memory usage: 2.4+ KB\n"
     ]
    }
   ],
   "source": [
    "data2.info()"
   ]
  },
  {
   "cell_type": "code",
   "execution_count": 75,
   "metadata": {},
   "outputs": [
    {
     "data": {
      "text/plain": [
<<<<<<< HEAD
       "<seaborn.axisgrid.JointGrid at 0x216af6f0f70>"
=======
       "<seaborn.axisgrid.JointGrid at 0x2405b593d10>"
>>>>>>> 05dffb387a44bdc730062925929115a5feb8fdab
      ]
     },
     "execution_count": 75,
     "metadata": {},
     "output_type": "execute_result"
    },
    {
     "data": {
      "image/png": "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",
      "text/plain": [
       "<Figure size 600x600 with 3 Axes>"
      ]
     },
     "metadata": {},
     "output_type": "display_data"
    }
   ],
   "source": [
    "sns.jointplot(x=\"Diam\", y=\"Price\", data=data2)"
   ]
  },
  {
   "cell_type": "markdown",
   "metadata": {},
   "source": [
    "obs: Aumento lineal del precio con el diametro. Tambien se observa aumento de la varianza con el aumento de la media de la variable dependiente. Propongo una distrib gamma debido a esto."
   ]
  },
  {
   "cell_type": "code",
<<<<<<< HEAD
   "execution_count": 16,
=======
   "execution_count": 76,
>>>>>>> 05dffb387a44bdc730062925929115a5feb8fdab
   "metadata": {},
   "outputs": [],
   "source": [
    "from scipy.special import gamma\n",
    "\n",
    "\n",
    "def gamma_log_likelihood(y, mu, dispersion=1):\n",
    "    A = (y / (dispersion * mu)) ** (1 / dispersion)\n",
    "    B = (1 / y) * (1 / gamma(1 / dispersion))\n",
    "    C = np.exp(-y / (dispersion * mu))\n",
    "    return np.sum(np.log(A * B * C))\n",
    "\n",
    "\n",
    "def mle_gamma(beta, X, y):  # uso de funcion link ln(mu) = eta\n",
    "    mu = np.exp(np.dot(X, beta))\n",
    "    return -gamma_log_likelihood(y, mu)"
   ]
  },
  {
   "cell_type": "code",
<<<<<<< HEAD
   "execution_count": 17,
=======
   "execution_count": 77,
>>>>>>> 05dffb387a44bdc730062925929115a5feb8fdab
   "metadata": {},
   "outputs": [
    {
     "data": {
      "text/plain": [
       "  message: Desired error not necessarily achieved due to precision loss.\n",
       "  success: False\n",
       "   status: 2\n",
       "      fun: 315.8304558995436\n",
       "        x: [ 2.963e+00  1.272e-01]\n",
       "      nit: 6\n",
       "      jac: [ 0.000e+00 -1.144e-05]\n",
       " hess_inv: [[ 3.363e-03 -5.742e-04]\n",
       "            [-5.742e-04  2.134e-04]]\n",
       "     nfev: 36\n",
       "     njev: 12"
      ]
     },
<<<<<<< HEAD
     "execution_count": 17,
=======
     "execution_count": 77,
>>>>>>> 05dffb387a44bdc730062925929115a5feb8fdab
     "metadata": {},
     "output_type": "execute_result"
    }
   ],
   "source": [
    "params_init = [2.9, 0.12]\n",
    "\n",
    "\n",
    "Y2 = data2[\"Price\"]\n",
    "X2 = np.column_stack((np.ones(len(data2)), data2[\"Diam\"]))\n",
    "\n",
    "\n",
    "def to_minimize(beta):\n",
    "    return mle_gamma(beta, X=X2, y=Y2)\n",
    "\n",
    "\n",
    "result = minimize(to_minimize, x0=params_init, method=\"BFGS\")\n",
    "result"
   ]
  },
  {
   "cell_type": "code",
<<<<<<< HEAD
   "execution_count": 18,
=======
   "execution_count": 78,
>>>>>>> 05dffb387a44bdc730062925929115a5feb8fdab
   "metadata": {},
   "outputs": [],
   "source": [
    "diam_linspace = np.linspace(data2[\"Diam\"].min(), data2[\"Diam\"].max(), 10)\n",
    "X2_ = np.column_stack((np.ones(len(diam_linspace)), diam_linspace))"
   ]
  },
  {
   "cell_type": "code",
<<<<<<< HEAD
   "execution_count": 20,
   "metadata": {},
   "outputs": [
    {
     "data": {
      "text/plain": [
       "[<matplotlib.lines.Line2D at 0x216b0b936a0>]"
      ]
     },
     "execution_count": 20,
     "metadata": {},
     "output_type": "execute_result"
    },
    {
     "data": {
      "image/png": "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",
=======
   "execution_count": 79,
   "metadata": {},
   "outputs": [
    {
     "ename": "ValueError",
     "evalue": "shapes (10,2) and (1,) not aligned: 2 (dim 1) != 1 (dim 0)",
     "output_type": "error",
     "traceback": [
      "\u001b[1;31m---------------------------------------------------------------------------\u001b[0m",
      "\u001b[1;31mValueError\u001b[0m                                Traceback (most recent call last)",
      "Cell \u001b[1;32mIn[79], line 2\u001b[0m\n\u001b[0;32m      1\u001b[0m sns\u001b[38;5;241m.\u001b[39mjointplot(x\u001b[38;5;241m=\u001b[39m\u001b[38;5;124m\"\u001b[39m\u001b[38;5;124mDiam\u001b[39m\u001b[38;5;124m\"\u001b[39m, y\u001b[38;5;241m=\u001b[39m\u001b[38;5;124m\"\u001b[39m\u001b[38;5;124mPrice\u001b[39m\u001b[38;5;124m\"\u001b[39m, data\u001b[38;5;241m=\u001b[39mdata2)\n\u001b[1;32m----> 2\u001b[0m plt\u001b[38;5;241m.\u001b[39mplot(diam_linspace, np\u001b[38;5;241m.\u001b[39mexp(np\u001b[38;5;241m.\u001b[39mdot(X2_, result\u001b[38;5;241m.\u001b[39mx[\u001b[38;5;241m0\u001b[39m:\u001b[38;5;241m-\u001b[39m\u001b[38;5;241m1\u001b[39m])), color\u001b[38;5;241m=\u001b[39m\u001b[38;5;124m\"\u001b[39m\u001b[38;5;124mred\u001b[39m\u001b[38;5;124m\"\u001b[39m)\n",
      "File \u001b[1;32m<__array_function__ internals>:200\u001b[0m, in \u001b[0;36mdot\u001b[1;34m(*args, **kwargs)\u001b[0m\n",
      "\u001b[1;31mValueError\u001b[0m: shapes (10,2) and (1,) not aligned: 2 (dim 1) != 1 (dim 0)"
     ]
    },
    {
     "data": {
      "image/png": "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",
>>>>>>> 05dffb387a44bdc730062925929115a5feb8fdab
      "text/plain": [
       "<Figure size 600x600 with 3 Axes>"
      ]
     },
     "metadata": {},
     "output_type": "display_data"
    }
   ],
   "source": [
    "sns.jointplot(x=\"Diam\", y=\"Price\", data=data2)\n",
    "plt.plot(diam_linspace, np.exp(np.dot(X2_, result.x)), color=\"red\")"
   ]
  },
  {
   "cell_type": "code",
<<<<<<< HEAD
   "execution_count": 21,
=======
   "execution_count": null,
>>>>>>> 05dffb387a44bdc730062925929115a5feb8fdab
   "metadata": {},
   "outputs": [
    {
     "data": {
      "text/plain": [
       "array([0.03976187, 0.0028014 ])"
      ]
     },
     "execution_count": 21,
     "metadata": {},
     "output_type": "execute_result"
    }
   ],
   "source": [
    "W = np.diag(np.exp(np.dot(X2, result.x)))\n",
    "\n",
    "fischer_information = np.dot(X2.T, np.dot(W, X2))\n",
    "covariance_matrix = np.linalg.inv(fischer_information)\n",
    "standard_errors = np.sqrt(np.diag(covariance_matrix))\n",
    "standard_errors"
   ]
  },
  {
   "cell_type": "code",
<<<<<<< HEAD
   "execution_count": 22,
=======
   "execution_count": null,
>>>>>>> 05dffb387a44bdc730062925929115a5feb8fdab
   "metadata": {},
   "outputs": [
    {
     "data": {
      "text/html": [
       "<table class=\"simpletable\">\n",
       "<caption>Generalized Linear Model Regression Results</caption>\n",
       "<tr>\n",
       "  <th>Dep. Variable:</th>         <td>Price</td>      <th>  No. Observations:  </th>  <td>    59</td> \n",
       "</tr>\n",
       "<tr>\n",
       "  <th>Model:</th>                  <td>GLM</td>       <th>  Df Residuals:      </th>  <td>    57</td> \n",
       "</tr>\n",
       "<tr>\n",
       "  <th>Model Family:</th>          <td>Gamma</td>      <th>  Df Model:          </th>  <td>     1</td> \n",
       "</tr>\n",
       "<tr>\n",
       "  <th>Link Function:</th>          <td>Log</td>       <th>  Scale:             </th> <td> 0.15673</td>\n",
       "</tr>\n",
       "<tr>\n",
       "  <th>Method:</th>                <td>IRLS</td>       <th>  Log-Likelihood:    </th> <td> -278.11</td>\n",
       "</tr>\n",
       "<tr>\n",
       "  <th>Date:</th>            <td>Wed, 01 May 2024</td> <th>  Deviance:          </th> <td>  7.7937</td>\n",
       "</tr>\n",
       "<tr>\n",
       "  <th>Time:</th>                <td>17:18:51</td>     <th>  Pearson chi2:      </th>  <td>  8.93</td> \n",
       "</tr>\n",
       "<tr>\n",
       "  <th>No. Iterations:</th>         <td>14</td>        <th>  Pseudo R-squ. (CS):</th>  <td>0.7405</td> \n",
       "</tr>\n",
       "<tr>\n",
       "  <th>Covariance Type:</th>     <td>nonrobust</td>    <th>                     </th>     <td> </td>   \n",
       "</tr>\n",
       "</table>\n",
       "<table class=\"simpletable\">\n",
       "<tr>\n",
       "    <td></td>       <th>coef</th>     <th>std err</th>      <th>z</th>      <th>P>|z|</th>  <th>[0.025</th>    <th>0.975]</th>  \n",
       "</tr>\n",
       "<tr>\n",
       "  <th>const</th> <td>    2.9629</td> <td>    0.156</td> <td>   18.971</td> <td> 0.000</td> <td>    2.657</td> <td>    3.269</td>\n",
       "</tr>\n",
       "<tr>\n",
       "  <th>x1</th>    <td>    0.1272</td> <td>    0.013</td> <td>    9.429</td> <td> 0.000</td> <td>    0.101</td> <td>    0.154</td>\n",
       "</tr>\n",
       "</table>"
      ],
      "text/plain": [
       "<class 'statsmodels.iolib.summary.Summary'>\n",
       "\"\"\"\n",
       "                 Generalized Linear Model Regression Results                  \n",
       "==============================================================================\n",
       "Dep. Variable:                  Price   No. Observations:                   59\n",
       "Model:                            GLM   Df Residuals:                       57\n",
       "Model Family:                   Gamma   Df Model:                            1\n",
       "Link Function:                    Log   Scale:                         0.15673\n",
       "Method:                          IRLS   Log-Likelihood:                -278.11\n",
       "Date:                Wed, 01 May 2024   Deviance:                       7.7937\n",
       "Time:                        17:18:51   Pearson chi2:                     8.93\n",
       "No. Iterations:                    14   Pseudo R-squ. (CS):             0.7405\n",
       "Covariance Type:            nonrobust                                         \n",
       "==============================================================================\n",
       "                 coef    std err          z      P>|z|      [0.025      0.975]\n",
       "------------------------------------------------------------------------------\n",
       "const          2.9629      0.156     18.971      0.000       2.657       3.269\n",
       "x1             0.1272      0.013      9.429      0.000       0.101       0.154\n",
       "==============================================================================\n",
       "\"\"\""
      ]
     },
     "execution_count": 22,
     "metadata": {},
     "output_type": "execute_result"
    }
   ],
   "source": [
    "import statsmodels.api as sm\n",
    "\n",
    "model = sm.GLM(Y2, X2, family=sm.families.Gamma(sm.families.links.Log())).fit()\n",
    "model.summary()"
   ]
  },
  {
   "cell_type": "code",
<<<<<<< HEAD
   "execution_count": 23,
=======
   "execution_count": null,
>>>>>>> 05dffb387a44bdc730062925929115a5feb8fdab
   "metadata": {},
   "outputs": [
    {
     "data": {
      "text/html": [
       "<div>\n",
       "<style scoped>\n",
       "    .dataframe tbody tr th:only-of-type {\n",
       "        vertical-align: middle;\n",
       "    }\n",
       "\n",
       "    .dataframe tbody tr th {\n",
       "        vertical-align: top;\n",
       "    }\n",
       "\n",
       "    .dataframe thead th {\n",
       "        text-align: right;\n",
       "    }\n",
       "</style>\n",
       "<table border=\"1\" class=\"dataframe\">\n",
       "  <thead>\n",
       "    <tr style=\"text-align: right;\">\n",
       "      <th></th>\n",
       "      <th>const</th>\n",
       "      <th>x1</th>\n",
       "    </tr>\n",
       "  </thead>\n",
       "  <tbody>\n",
       "    <tr>\n",
       "      <th>const</th>\n",
       "      <td>0.024392</td>\n",
       "      <td>-0.001989</td>\n",
       "    </tr>\n",
       "    <tr>\n",
       "      <th>x1</th>\n",
       "      <td>-0.001989</td>\n",
       "      <td>0.000182</td>\n",
       "    </tr>\n",
       "  </tbody>\n",
       "</table>\n",
       "</div>"
      ],
      "text/plain": [
       "          const        x1\n",
       "const  0.024392 -0.001989\n",
       "x1    -0.001989  0.000182"
      ]
     },
     "execution_count": 23,
     "metadata": {},
     "output_type": "execute_result"
    }
   ],
   "source": [
    "model.cov_params()"
   ]
  }
 ],
 "metadata": {
  "kernelspec": {
   "display_name": "Python 3",
   "language": "python",
   "name": "python3"
  },
  "language_info": {
   "codemirror_mode": {
    "name": "ipython",
    "version": 3
   },
   "file_extension": ".py",
   "mimetype": "text/x-python",
   "name": "python",
   "nbconvert_exporter": "python",
   "pygments_lexer": "ipython3",
   "version": "3.11.5"
  }
 },
 "nbformat": 4,
 "nbformat_minor": 2
}
