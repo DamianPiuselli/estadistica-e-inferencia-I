{
 "cells": [
  {
   "cell_type": "code",
   "execution_count": 97,
   "metadata": {},
   "outputs": [],
   "source": [
    "import numpy as np\n",
    "import scipy.stats as st\n",
    "import pandas as pd\n",
    "import matplotlib.pyplot as plt\n",
    "import seaborn as sns\n",
    "\n",
    "plt.style.use(\"ggplot\")\n",
    "plt.rcParams[\"figure.figsize\"] = [5, 3]"
   ]
  },
  {
   "cell_type": "markdown",
   "metadata": {},
   "source": [
    "### EJ1\n",
    "\n",
    "* tomar 30 muestras de una distribucion bernoulli con parametro p=0.3\n",
    "\n",
    "(a) estimador plug-in del devio estandar de la distribucion\n",
    "\n",
    "(b) estimar error estandar via bootstrap\n",
    "\n",
    "(c) estimar el intervalo de confianza del 95% usando los métodos normal, percentile\n",
    "bootstrap, basic bootstrap y BCa.\n"
   ]
  },
  {
   "cell_type": "code",
   "execution_count": 98,
   "metadata": {},
   "outputs": [
    {
     "data": {
      "text/plain": [
       "array([1, 0, 0, 0, 0, 0, 0, 0, 0, 0, 0, 0, 0, 0, 1, 0, 0, 0, 0, 0, 0, 0,\n",
       "       1, 0, 0, 0, 1, 1, 1, 0])"
      ]
     },
     "execution_count": 98,
     "metadata": {},
     "output_type": "execute_result"
    }
   ],
   "source": [
    "sample = np.random.binomial(1, 0.3, 30)\n",
    "sample"
   ]
  },
  {
   "cell_type": "code",
   "execution_count": 99,
   "metadata": {},
   "outputs": [
    {
     "data": {
      "text/plain": [
       "0.4000000000000001"
      ]
     },
     "execution_count": 99,
     "metadata": {},
     "output_type": "execute_result"
    }
   ],
   "source": [
    "def var_pluging(sample):\n",
    "    return (1 / len(sample)) * np.sum((sample - np.mean(sample)) ** 2)\n",
    "\n",
    "\n",
    "sd_plugin = np.sqrt(var_pluging(sample))\n",
    "sd_plugin"
   ]
  },
  {
   "cell_type": "code",
   "execution_count": 100,
   "metadata": {},
   "outputs": [],
   "source": [
    "def basic_bootstrap(sample, Func, N):\n",
    "    theta_bootstrap = np.zeros(N)\n",
    "\n",
    "    for i in range(N):\n",
    "        sample_bootstrap = np.random.choice(sample, len(sample), replace=True)\n",
    "        theta_bootstrap[i] = Func(sample_bootstrap)\n",
    "    return theta_bootstrap"
   ]
  },
  {
   "cell_type": "code",
   "execution_count": 101,
   "metadata": {},
   "outputs": [
    {
     "data": {
      "text/plain": [
       "Text(0.5, 0, 'bootstraped standard deviation')"
      ]
     },
     "execution_count": 101,
     "metadata": {},
     "output_type": "execute_result"
    },
    {
     "data": {
      "image/png": "[encoded data removed]",
      "text/plain": [
       "<Figure size 500x300 with 1 Axes>"
      ]
     },
     "metadata": {},
     "output_type": "display_data"
    }
   ],
   "source": [
    "sd_bootstrap = basic_bootstrap(sample, var_pluging, 1000) ** 0.5\n",
    "\n",
    "sns.histplot(sd_bootstrap, kde=True)\n",
    "plt.xlabel(\"bootstraped standard deviation\")"
   ]
  },
  {
   "cell_type": "code",
   "execution_count": 102,
   "metadata": {},
   "outputs": [
    {
     "name": "stdout",
     "output_type": "stream",
     "text": [
      "standard error:  0.060993492107694475\n"
     ]
    }
   ],
   "source": [
    "standard_error = np.std(sd_bootstrap)\n",
    "print(\n",
    "    \"standard error: \", standard_error\n",
    ")  # error estandar del desvio estandard de la muestra"
   ]
  },
  {
   "cell_type": "code",
   "execution_count": 103,
   "metadata": {},
   "outputs": [
    {
     "name": "stdout",
     "output_type": "stream",
     "text": [
      "intervalo de confianza aproximacion normal:  0.28045495217759087   0.5195450478224093\n"
     ]
    }
   ],
   "source": [
    "# intervalo de confianza por metodo normal, como se puede observar arriba la distribucion en el bootstrap del SD_sample no es normal, va a ser una mala aproximacion.\n",
    "alpha = 0.05\n",
    "\n",
    "\n",
    "def normal_approximation_ci(bootstrapped_sample, alpha=0.05):\n",
    "    z = st.norm.ppf(1 - (alpha / 2))\n",
    "    lower = sd_plugin - z * standard_error\n",
    "    upper = sd_plugin + z * standard_error\n",
    "    return lower, upper\n",
    "\n",
    "\n",
    "lower_normal, upper_normal = normal_approximation_ci(sd_bootstrap, alpha)\n",
    "print(\"intervalo de confianza aproximacion normal: \", lower_normal, \" \", upper_normal)"
   ]
  },
  {
   "cell_type": "code",
   "execution_count": 104,
   "metadata": {},
   "outputs": [
    {
     "name": "stdout",
     "output_type": "stream",
     "text": [
      "intervalo de confianza aproximacion percentil:  0.24944382578492943   0.48189440982669857\n"
     ]
    }
   ],
   "source": [
    "def percentile_aproximation_ci(bootstrapped_sample, alpha=0.05):\n",
    "    lower = np.quantile(bootstrapped_sample, alpha / 2)\n",
    "    upper = np.quantile(bootstrapped_sample, 1 - (alpha / 2))\n",
    "    return lower, upper\n",
    "\n",
    "\n",
    "lower_per, upper_per = percentile_aproximation_ci(sd_bootstrap, alpha)\n",
    "print(\"intervalo de confianza aproximacion percentil: \", lower_per, \" \", upper_per)"
   ]
  },
  {
   "cell_type": "code",
   "execution_count": 105,
   "metadata": {},
   "outputs": [
    {
     "data": {
      "text/plain": [
       "(array([1, 0, 0, 0, 0, 0, 0, 0, 0, 0, 0, 0, 0, 0, 1, 0, 0, 0, 0, 0, 0, 0,\n",
       "        1, 0, 0, 0, 1, 1, 1, 0]),)"
      ]
     },
     "execution_count": 105,
     "metadata": {},
     "output_type": "execute_result"
    }
   ],
   "source": [
    "(sample,)"
   ]
  },
  {
   "cell_type": "code",
   "execution_count": 106,
   "metadata": {},
   "outputs": [
    {
     "name": "stdout",
     "output_type": "stream",
     "text": [
      "intervalo de confianza pivotal  ConfidenceInterval(low=0.3181055901733016, high=0.5505561742150707)\n"
     ]
    }
   ],
   "source": [
    "# basic bootstrap CI AKA bootstrap pivotal CI\n",
    "\n",
    "basic_bootstrap_CI = st.bootstrap(\n",
    "    (sample,), np.std, confidence_level=1 - alpha, method=\"basic\"\n",
    ")\n",
    "print(\"intervalo de confianza pivotal \", basic_bootstrap_CI.confidence_interval)\n",
    "lower_basic, upper_basic = basic_bootstrap_CI.confidence_interval"
   ]
  },
  {
   "cell_type": "code",
   "execution_count": 107,
   "metadata": {},
   "outputs": [
    {
     "name": "stdout",
     "output_type": "stream",
     "text": [
      "intervalo de confianza bca  ConfidenceInterval(low=0.3181055901733016, high=0.5505561742150707)\n"
     ]
    }
   ],
   "source": [
    "bca_bootstrap_CI = st.bootstrap(\n",
    "    (sample,), np.std, confidence_level=1 - alpha, method=\"bca\"\n",
    ")  # bias corrected and accelerated\n",
    "print(\"intervalo de confianza bca \", basic_bootstrap_CI.confidence_interval)\n",
    "lower_bca, upper_bca = bca_bootstrap_CI.confidence_interval"
   ]
  },
  {
   "cell_type": "code",
   "execution_count": 109,
   "metadata": {},
   "outputs": [
    {
     "data": {
      "image/png": "[encoded data removed]",
      "text/plain": [
       "<Figure size 500x300 with 1 Axes>"
      ]
     },
     "metadata": {},
     "output_type": "display_data"
    }
   ],
   "source": [
    "interval_names = [\"Normal\", \"Percentile\", \"Basic\", \"BCa\"]\n",
    "plt.axhline(sd_plugin, color=\"k\", ls=\"--\", label=\"$\\hat{\\sigma}$\", alpha=0.5)\n",
    "plt.axhline((0.3 * 0.7) ** 0.5, color=\"grey\", ls=\"-.\", label=\"${\\sigma}$\", alpha=0.5)\n",
    "plt.plot([1, 1], [lower_normal, upper_normal], \"o-\", color=\"blue\")\n",
    "plt.plot([2, 2], [lower_per, upper_per], \"o-\", color=\"red\")\n",
    "plt.plot([3, 3], [lower_basic, upper_basic], \"o-\", color=\"green\")\n",
    "plt.plot([4, 4], [lower_bca, upper_bca], \"o-\", color=\"orange\")\n",
    "plt.xticks([1, 2, 3, 4], labels=interval_names)\n",
    "plt.xlabel(\"Tipo de intervalo\")\n",
    "plt.ylabel(\"$IC(\\hat{\\sigma})$\")\n",
    "plt.title(\"Intervalos de confianza\")\n",
    "plt.legend()\n",
    "plt.show()"
   ]
  },
  {
   "cell_type": "markdown",
   "metadata": {},
   "source": [
    "### EJ2\n",
    "\n",
    "Considerar los datasets de los precios anuales de las acciones de The Coca-Cola Company y las\n",
    "búsquedas en Google de “my cat scratched me” disponibles en https://shorturl.at/xIPSV.\n",
    "\n",
    "(a) Encontrar el estimador plug-in del coeficiente de correlación entre ambos conjuntos de datos.\n",
    "\n",
    "(b) Estimar su error estándar usando bootstrap.\n",
    "\n",
    "(c) Encontrar un intervalo de confianza de nivel 0.95 usando los métodos normal, percentile\n",
    "bootstrap, basic bootstrap y BCa\n"
   ]
  },
  {
   "cell_type": "code",
   "execution_count": 110,
   "metadata": {},
   "outputs": [],
   "source": [
    "array_1 = np.array(\n",
    "    [\n",
    "        8,\n",
    "        7.91667,\n",
    "        19.8333,\n",
    "        18.5833,\n",
    "        29.0833,\n",
    "        30.3333,\n",
    "        35.4167,\n",
    "        43.6667,\n",
    "        37.25,\n",
    "        45.75,\n",
    "        47.1667,\n",
    "        48.5,\n",
    "        67.3333,\n",
    "        79.3333,\n",
    "        74.6667,\n",
    "        85.6667,\n",
    "    ]\n",
    ")\n",
    "array_2 = np.array(\n",
    "    [\n",
    "        30.73,\n",
    "        22.7,\n",
    "        28.58,\n",
    "        32.94,\n",
    "        35.08,\n",
    "        36.99,\n",
    "        41.12,\n",
    "        42.26,\n",
    "        42.34,\n",
    "        41.5,\n",
    "        45.91,\n",
    "        46.94,\n",
    "        55.32,\n",
    "        54.27,\n",
    "        58.82,\n",
    "        63.56,\n",
    "    ]\n",
    ")\n",
    "array_1_name = \"Google searches for 'my cat scratched me'\"\n",
    "array_2_name = \"The Coca-Cola Company's stock price (KO)\""
   ]
  },
  {
   "cell_type": "code",
   "execution_count": 135,
   "metadata": {},
   "outputs": [
    {
     "name": "stdout",
     "output_type": "stream",
     "text": [
      "coef de correlacion: 0.9740\n"
     ]
    }
   ],
   "source": [
    "# a)\n",
    "def plugin_corr_coef(sample1, sample2):\n",
    "    X_ = sample1 - sample1.mean()\n",
    "    Y_ = sample2 - sample2.mean()\n",
    "    return sum(X_ * Y_) / np.sqrt(np.sum(X_**2) * np.sum(Y_**2))\n",
    "\n",
    "\n",
    "corr_coef = plugin_corr_coef(array_1, array_2)\n",
    "print(f\"coef de correlacion: {corr_coef:.4f}\")"
   ]
  },
  {
   "cell_type": "code",
   "execution_count": 136,
   "metadata": {},
   "outputs": [
    {
     "name": "stdout",
     "output_type": "stream",
     "text": [
      "error standard del coef de correlacion: 0.2625\n"
     ]
    }
   ],
   "source": [
    "# b)\n",
    "def two_samples_bootstrap(sample_1, sample_2, Func, N):\n",
    "    theta_bootstrap = np.zeros(N)\n",
    "\n",
    "    for i in range(N):\n",
    "        sample_bootstrap_1 = np.random.choice(sample_1, len(sample_1), replace=True)\n",
    "        sample_bootstrap_2 = np.random.choice(sample_2, len(sample_2), replace=True)\n",
    "        theta_bootstrap[i] = Func(sample_bootstrap_1, sample_bootstrap_2)\n",
    "    return theta_bootstrap\n",
    "\n",
    "\n",
    "bootstrapped_corr_coef = two_samples_bootstrap(array_1, array_2, plugin_corr_coef, 5000)\n",
    "corr_coef_SE = bootstrapped_corr_coef.std()\n",
    "print(f\"error standard del coef de correlacion: {corr_coef_SE:.4f}\")"
   ]
  },
  {
   "cell_type": "code",
   "execution_count": 134,
   "metadata": {},
   "outputs": [
    {
     "data": {
      "text/plain": [
       "1.959963984540054"
      ]
     },
     "execution_count": 134,
     "metadata": {},
     "output_type": "execute_result"
    }
   ],
   "source": [
    "# C)\n",
    "# intervalo normal\n",
    "alpha = 0.05\n",
    "\n",
    "z = st.norm.ppf(1 - (alpha / 2))\n",
    "normal_lower = corr_coef - corr_coef_SE * z\n",
    "normal_upper"
   ]
  }
 ],
 "metadata": {
  "kernelspec": {
   "display_name": "Python 3",
   "language": "python",
   "name": "python3"
  },
  "language_info": {
   "codemirror_mode": {
    "name": "ipython",
    "version": 3
   },
   "file_extension": ".py",
   "mimetype": "text/x-python",
   "name": "python",
   "nbconvert_exporter": "python",
   "pygments_lexer": "ipython3",
   "version": "3.11.5"
  }
 },
 "nbformat": 4,
 "nbformat_minor": 2
}
