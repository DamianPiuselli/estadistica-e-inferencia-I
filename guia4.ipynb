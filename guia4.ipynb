{
 "cells": [
  {
   "cell_type": "code",
   "execution_count": 2,
   "metadata": {},
   "outputs": [],
   "source": [
    "import numpy as np\n",
    "import scipy.stats as st\n",
    "import pandas as pd\n",
    "import matplotlib.pyplot as plt\n",
    "import seaborn as sns"
   ]
  },
  {
   "cell_type": "markdown",
   "metadata": {},
   "source": [
    "### EJ1\n",
    "\n",
    "* tomar 30 muestras de una distribucion bernoulli con parametro p=0.3\n",
    "\n",
    "(a) estimador plug-in del devio estandar de la distribucion\n",
    "\n",
    "(b) estimar error estandar via bootstrap\n",
    "\n",
    "(c) estimar el intervalo de confianza del 95% usando los métodos normal, percentile\n",
    "bootstrap, basic bootstrap y BCa.\n"
   ]
  },
  {
   "cell_type": "code",
   "execution_count": 3,
   "metadata": {},
   "outputs": [
    {
     "data": {
      "text/plain": [
       "array([0, 0, 0, 1, 0, 0, 0, 0, 0, 1, 0, 0, 1, 0, 0, 1, 0, 0, 1, 0, 0, 1,\n",
       "       1, 0, 0, 0, 1, 0, 0, 0])"
      ]
     },
     "execution_count": 3,
     "metadata": {},
     "output_type": "execute_result"
    }
   ],
   "source": [
    "sample = np.random.binomial(1, 0.3, 30)\n",
    "sample"
   ]
  },
  {
   "cell_type": "code",
   "execution_count": 4,
   "metadata": {},
   "outputs": [
    {
     "data": {
      "text/plain": [
       "0.4422166387140533"
      ]
     },
     "execution_count": 4,
     "metadata": {},
     "output_type": "execute_result"
    }
   ],
   "source": [
    "def var_pluging(sample):\n",
    "    return (1 / len(sample)) * np.sum((sample - np.mean(sample)) ** 2)\n",
    "\n",
    "\n",
    "sd_plugin = np.sqrt(var_pluging(sample))\n",
    "sd_plugin"
   ]
  },
  {
   "cell_type": "code",
   "execution_count": 5,
   "metadata": {},
   "outputs": [],
   "source": [
    "def basic_bootstrap(sample, Func, N):\n",
    "    theta_bootstrap = np.zeros(N)\n",
    "\n",
    "    for i in range(N):\n",
    "        sample_bootstrap = np.random.choice(sample, len(sample), replace=True)\n",
    "        theta_bootstrap[i] = Func(sample_bootstrap)\n",
    "    return theta_bootstrap"
   ]
  },
  {
   "cell_type": "code",
   "execution_count": 6,
   "metadata": {},
   "outputs": [
    {
     "data": {
      "text/plain": [
       "Text(0.5, 0, 'bootstraped standard deviation')"
      ]
     },
     "execution_count": 6,
     "metadata": {},
     "output_type": "execute_result"
    },
    {
     "data": {
      "image/png": "[encoded data removed]",
      "text/plain": [
       "<Figure size 432x288 with 1 Axes>"
      ]
     },
     "metadata": {
      "needs_background": "light"
     },
     "output_type": "display_data"
    }
   ],
   "source": [
    "sd_bootstrap = basic_bootstrap(sample, var_pluging, 1000) ** 0.5\n",
    "\n",
    "sns.histplot(sd_bootstrap, kde=True)\n",
    "plt.xlabel(\"bootstraped standard deviation\")"
   ]
  },
  {
   "cell_type": "code",
   "execution_count": 7,
   "metadata": {},
   "outputs": [
    {
     "name": "stdout",
     "output_type": "stream",
     "text": [
      "standard error:  0.04373688628491827\n"
     ]
    }
   ],
   "source": [
    "standard_error = np.std(sd_bootstrap)\n",
    "print(\n",
    "    \"standard error: \", standard_error\n",
    ")  # error estandar del desvio estandard de la muestra"
   ]
  },
  {
   "cell_type": "code",
   "execution_count": 8,
   "metadata": {},
   "outputs": [
    {
     "name": "stdout",
     "output_type": "stream",
     "text": [
      "intervalo de confianza aproximacion normal:  0.35649391679968967   0.527939360628417\n"
     ]
    }
   ],
   "source": [
    "# intervalo de confianza por metodo normal, como se puede observar arriba la distribucion en el bootstrap del SD_sample no es normal, va a ser una mala aproximacion.\n",
    "alpha = 0.05\n",
    "\n",
    "\n",
    "def normal_approximation_ci(bootstrapped_sample, alpha=0.05):\n",
    "    z = st.norm.ppf(1 - (alpha / 2))\n",
    "    lower = sd_plugin - z * standard_error\n",
    "    upper = sd_plugin + z * standard_error\n",
    "    return lower, upper\n",
    "\n",
    "\n",
    "lower, upper = normal_approximation_ci(sd_bootstrap, alpha)\n",
    "print(\"intervalo de confianza aproximacion normal: \", lower, \" \", upper)"
   ]
  },
  {
   "cell_type": "code",
   "execution_count": 9,
   "metadata": {},
   "outputs": [
    {
     "name": "stdout",
     "output_type": "stream",
     "text": [
      "intervalo de confianza aproximacion percentil:  0.33993463423951903   0.4955356249106168\n"
     ]
    }
   ],
   "source": [
    "def percentile_aproximation_ci(bootstrapped_sample, alpha=0.05):\n",
    "    lower = np.quantile(bootstrapped_sample, alpha / 2)\n",
    "    upper = np.quantile(bootstrapped_sample, 1 - (alpha / 2))\n",
    "    return lower, upper\n",
    "\n",
    "\n",
    "lower, upper = percentile_aproximation_ci(sd_bootstrap, alpha)\n",
    "print(\"intervalo de confianza aproximacion percentil: \", lower, \" \", upper)"
   ]
  },
  {
   "cell_type": "code",
   "execution_count": 10,
   "metadata": {},
   "outputs": [
    {
     "data": {
      "text/plain": [
       "(array([0, 0, 0, 1, 0, 0, 0, 0, 0, 1, 0, 0, 1, 0, 0, 1, 0, 0, 1, 0, 0, 1,\n",
       "        1, 0, 0, 0, 1, 0, 0, 0]),)"
      ]
     },
     "execution_count": 10,
     "metadata": {},
     "output_type": "execute_result"
    }
   ],
   "source": [
    "(sample,)"
   ]
  },
  {
   "cell_type": "code",
   "execution_count": 11,
   "metadata": {},
   "outputs": [
    {
     "name": "stdout",
     "output_type": "stream",
     "text": [
      "intervalo de confianza pivotal  ConfidenceInterval(low=0.3888976525174898, high=0.5844332774281066)\n"
     ]
    }
   ],
   "source": [
    "# basic bootstrap CI AKA bootstrap pivotal CI\n",
    "\n",
    "basic_bootstrap_CI = st.bootstrap(\n",
    "    (sample,), np.std, confidence_level=1 - alpha, method=\"basic\"\n",
    ")\n",
    "print(\"intervalo de confianza pivotal \", basic_bootstrap_CI.confidence_interval)"
   ]
  },
  {
   "cell_type": "code",
   "execution_count": 12,
   "metadata": {},
   "outputs": [
    {
     "name": "stdout",
     "output_type": "stream",
     "text": [
      "intervalo de confianza bca  ConfidenceInterval(low=0.3888976525174898, high=0.5844332774281066)\n"
     ]
    }
   ],
   "source": [
    "bca_bootstrap_CI = st.bootstrap(\n",
    "    (sample,), np.std, confidence_level=1 - alpha, method=\"bca\"\n",
    ")  # bias corrected and accelerated\n",
    "print(\"intervalo de confianza bca \", basic_bootstrap_CI.confidence_interval)"
   ]
  },
  {
   "cell_type": "code",
   "execution_count": 13,
   "metadata": {},
   "outputs": [
    {
     "data": {
      "text/plain": [
       "<matplotlib.lines.Line2D at 0x16978fec490>"
      ]
     },
     "execution_count": 13,
     "metadata": {},
     "output_type": "execute_result"
    },
    {
     "data": {
      "image/png": "[encoded data removed]",
      "text/plain": [
       "<Figure size 432x288 with 1 Axes>"
      ]
     },
     "metadata": {
      "needs_background": "light"
     },
     "output_type": "display_data"
    }
   ],
   "source": [
    "interval_names = [\"Normal\", \"Percentile\", \"Basic\", \"BCa\"]\n",
    "plt.axhline(sd_plugin, color=\"k\", ls=\"--\", label=\"$\\hat{\\sigma}$\", alpha=0.5)"
   ]
  }
 ],
 "metadata": {
  "kernelspec": {
   "display_name": "Python 3",
   "language": "python",
   "name": "python3"
  },
  "language_info": {
   "codemirror_mode": {
    "name": "ipython",
    "version": 3
   },
   "file_extension": ".py",
   "mimetype": "text/x-python",
   "name": "python",
   "nbconvert_exporter": "python",
   "pygments_lexer": "ipython3",
   "version": "3.9.5"
  }
 },
 "nbformat": 4,
 "nbformat_minor": 2
}
